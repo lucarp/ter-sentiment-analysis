{
 "cells": [
  {
   "cell_type": "code",
   "execution_count": 2,
   "metadata": {},
   "outputs": [],
   "source": [
    "from scipy.io import loadmat\n",
    "import pandas as pd\n",
    "from sklearn import linear_model\n",
    "from sklearn.model_selection import train_test_split\n",
    "from sklearn.metrics import mean_squared_error, r2_score\n"
   ]
  },
  {
   "cell_type": "code",
   "execution_count": 35,
   "metadata": {},
   "outputs": [],
   "source": [
    "X = loadmat('mat_files/output_not_original_10.csv_tf-idf-l2.mat')\n",
    "X=X['X'].todense()\n",
    "y = pd.read_csv('mat_files/dataset_LABEL.csv', header=None)"
   ]
  },
  {
   "cell_type": "code",
   "execution_count": 36,
   "metadata": {},
   "outputs": [
    {
     "name": "stdout",
     "output_type": "stream",
     "text": [
      "(5006, 9749)\n",
      "(5006, 1)\n"
     ]
    }
   ],
   "source": [
    "print(X.shape)\n",
    "print(y.shape)"
   ]
  },
  {
   "cell_type": "code",
   "execution_count": 37,
   "metadata": {},
   "outputs": [
    {
     "name": "stderr",
     "output_type": "stream",
     "text": [
      "/usr/local/lib/python3.6/site-packages/scipy/linalg/basic.py:1018: RuntimeWarning: internal gelsd driver lwork query error, required iwork dimension not returned. This is likely the result of LAPACK bug 0038, fixed in LAPACK 3.2.2 (released July 21, 2010). Falling back to 'gelss' driver.\n",
      "  warnings.warn(mesg, RuntimeWarning)\n"
     ]
    },
    {
     "data": {
      "text/plain": [
       "LinearRegression(copy_X=True, fit_intercept=True, n_jobs=1, normalize=False)"
      ]
     },
     "execution_count": 37,
     "metadata": {},
     "output_type": "execute_result"
    }
   ],
   "source": [
    "X_train, X_test, y_train, y_test = train_test_split(X, y, test_size=0.05, random_state=42)\n",
    "\n",
    "# Create linear regression object\n",
    "regr = linear_model.LinearRegression()\n",
    "\n",
    "# Train the model using the training sets\n",
    "regr.fit(X_train, y_train)"
   ]
  },
  {
   "cell_type": "code",
   "execution_count": 41,
   "metadata": {},
   "outputs": [
    {
     "name": "stdout",
     "output_type": "stream",
     "text": [
      "Coefficients: \n",
      " [[ 0.02569705 -0.09767576  0.11434561 ...  0.04488062  0.031806\n",
      "   0.12995923]]\n",
      "Mean squared error: 0.02\n",
      "Variance score: 0.45\n"
     ]
    }
   ],
   "source": [
    "# Make predictions using the testing set\n",
    "y_pred = regr.predict(X_test)\n",
    "\n",
    "# The coefficients\n",
    "print('Coefficients: \\n', regr.coef_)\n",
    "# The mean squared error\n",
    "print(\"Mean squared error: %.2f\"\n",
    "      % mean_squared_error(y_test, y_pred))\n",
    "# Explained variance score: 1 is perfect prediction\n",
    "print('Variance score: %.2f' % r2_score(y_test, y_pred))"
   ]
  },
  {
   "cell_type": "code",
   "execution_count": 54,
   "metadata": {},
   "outputs": [],
   "source": [
    "y_pred[y_pred<0.2] = 1\n",
    "y_pred[y_pred<0.4] = 2\n",
    "y_pred[y_pred<0.6] = 3\n",
    "y_pred[y_pred<0.8] = 4\n",
    "y_pred[y_pred<1] = 5"
   ]
  },
  {
   "cell_type": "code",
   "execution_count": 66,
   "metadata": {},
   "outputs": [],
   "source": [
    "y_test_5_classes=y_test[0].values\n",
    "\n",
    "y_test_5_classes[y_test_5_classes<0.2] = 1\n",
    "y_test_5_classes[y_test_5_classes<0.4] = 2\n",
    "y_test_5_classes[y_test_5_classes<0.6] = 3\n",
    "y_test_5_classes[y_test_5_classes<0.8] = 4\n",
    "y_test_5_classes[y_test_5_classes<1] = 5"
   ]
  },
  {
   "cell_type": "code",
   "execution_count": 67,
   "metadata": {},
   "outputs": [],
   "source": [
    "y_pred = y_pred.astype(int)\n",
    "y_test_5_classes = y_test_5_classes.astype(int)"
   ]
  },
  {
   "cell_type": "code",
   "execution_count": 69,
   "metadata": {},
   "outputs": [
    {
     "name": "stdout",
     "output_type": "stream",
     "text": [
      "\n",
      "Calculating Accuracy of trained Classifier...\n",
      "\n",
      "Calculating Accuracy of Predictions...\n",
      "\n",
      "Creating Confusion Matrix...\n",
      "\n",
      "SVM Trained Classifier Accuracy:  -10.232617426512753\n",
      "\n",
      "Predicted Values:  [4 3 2 1 4 5 3 2 5 4 3 4 3 4 3 3 2 2 4 3 3 4 3 4 4 3 3 4 4 3 4 4 5 2 3 4 4\n",
      " 2 2 4 3 5 4 4 5 4 5 4 3 3 4 2 2 5 5 3 3 4 5 3 3 5 4 4 2 5 5 4 5 4 2 3 5 5\n",
      " 3 3 4 3 4 3 2 4 4 3 4 2 3 4 3 3 4 3 4 4 5 2 4 5 4 4 3 5 4 4 4 2 2 4 3 4 2\n",
      " 4 3 4 3 4 3 3 3 5 2 4 3 3 4 3 5 3 4 3 4 3 3 4 3 4 5 5 4 3 3 5 3 5 5 3 4 4\n",
      " 3 3 4 4 5 3 4 3 3 5 3 3 4 4 4 2 5 3 2 2 4 5 3 3 4 2 4 4 5 4 4 4 3 4 3 5 4\n",
      " 3 4 5 3 3 4 5 5 2 4 2 2 3 4 4 4 2 4 4 5 3 4 3 3 4 2 3 3 2 2 4 5 3 4 5 5 5\n",
      " 5 4 5 2 3 3 2 4 4 4 3 3 4 4 4 4 4 4 3 4 4 4 4 3 3 5 3 4 2]\n",
      "\n",
      "Accuracy of Classifier on Validation Images:  0.5378486055776892\n",
      "\n",
      "Confusion Matrix: \n",
      " [[ 0  1  0  0  0]\n",
      " [ 4 12 13  3  0]\n",
      " [ 0 18 44 15  2]\n",
      " [ 0  3 25 58 11]\n",
      " [ 0  0  2 19 21]]\n"
     ]
    },
    {
     "data": {
      "image/png": "[encoded data removed]",
      "text/plain": [
       "<Figure size 288x288 with 2 Axes>"
      ]
     },
     "metadata": {},
     "output_type": "display_data"
    }
   ],
   "source": [
    "from sklearn.metrics import accuracy_score,confusion_matrix\n",
    "import matplotlib.pyplot as plt\n",
    "\n",
    "print('\\nCalculating Accuracy of trained Classifier...')\n",
    "acc = regr.score(X_test,y_test)\n",
    "\n",
    "\n",
    "print('\\nCalculating Accuracy of Predictions...')\n",
    "accuracy = accuracy_score(y_test_5_classes, y_pred)\n",
    "\n",
    "print('\\nCreating Confusion Matrix...')\n",
    "conf_mat = confusion_matrix(y_test_5_classes,y_pred)\n",
    "\n",
    "print('\\nSVM Trained Classifier Accuracy: ',acc)\n",
    "print('\\nPredicted Values: ',y_test_5_classes)\n",
    "print('\\nAccuracy of Classifier on Validation Images: ',accuracy)\n",
    "print('\\nConfusion Matrix: \\n',conf_mat)\n",
    "\n",
    "# Plot Confusion Matrix Data as a Matrix\n",
    "plt.matshow(conf_mat)\n",
    "plt.title('Confusion Matrix for Validation Data')\n",
    "plt.colorbar()\n",
    "plt.ylabel('True label')\n",
    "plt.xlabel('Predicted label')\n",
    "plt.show()"
   ]
  },
  {
   "cell_type": "code",
   "execution_count": 1,
   "metadata": {
    "scrolled": false
   },
   "outputs": [
    {
     "name": "stderr",
     "output_type": "stream",
     "text": [
      "/usr/local/lib/python3.6/site-packages/scipy/linalg/basic.py:1018: RuntimeWarning: internal gelsd driver lwork query error, required iwork dimension not returned. This is likely the result of LAPACK bug 0038, fixed in LAPACK 3.2.2 (released July 21, 2010). Falling back to 'gelss' driver.\n",
      "  warnings.warn(mesg, RuntimeWarning)\n"
     ]
    },
    {
     "name": "stdout",
     "output_type": "stream",
     "text": [
      "Coefficients: \n",
      " [[-0.08555859 -0.09853462  0.13736454 ... -0.05893798  0.08442995\n",
      "   0.0561019 ]]\n",
      "Mean squared error: 0.04\n",
      "Variance score: -0.41\n",
      "\n",
      "Calculating Accuracy of trained Classifier...\n",
      "\n",
      "Calculating Accuracy of Predictions...\n",
      "\n",
      "Creating Confusion Matrix...\n",
      "\n",
      "SVM Trained Classifier Accuracy:  -9.610301956976947\n",
      "\n",
      "Predicted Values:  [[1]\n",
      " [2]\n",
      " [2]\n",
      " ...\n",
      " [5]\n",
      " [5]\n",
      " [5]]\n",
      "\n",
      "Accuracy of Classifier on Validation Images:  0.4241516966067864\n",
      "\n",
      "Confusion Matrix: \n",
      " [[  0   0   1   0   0]\n",
      " [  0  25 104  40   1]\n",
      " [  1  15 177 222  25]\n",
      " [  0   1  53 198  50]\n",
      " [  0   0  18  46  25]]\n"
     ]
    },
    {
     "data": {
      "text/plain": [
       "<Figure size 480x480 with 2 Axes>"
      ]
     },
     "metadata": {},
     "output_type": "display_data"
    },
    {
     "name": "stdout",
     "output_type": "stream",
     "text": [
      "Coefficients: \n",
      " [[-0.10618091 -0.15569729  0.09080313 ...  0.05801542  0.01875417\n",
      "   0.07523743]]\n",
      "Mean squared error: 0.02\n",
      "Variance score: 0.29\n",
      "\n",
      "Calculating Accuracy of trained Classifier...\n",
      "\n",
      "Calculating Accuracy of Predictions...\n",
      "\n",
      "Creating Confusion Matrix...\n",
      "\n",
      "SVM Trained Classifier Accuracy:  -11.981614839191348\n",
      "\n",
      "Predicted Values:  [[5]\n",
      " [5]\n",
      " [5]\n",
      " ...\n",
      " [4]\n",
      " [4]\n",
      " [4]]\n",
      "\n",
      "Accuracy of Classifier on Validation Images:  0.5144855144855145\n",
      "\n",
      "Confusion Matrix: \n",
      " [[  1  14   7   1   0]\n",
      " [  7  42  59   6   1]\n",
      " [  4  62 161  61   4]\n",
      " [  0  10 137 305  94]\n",
      " [  0   0   3  16   6]]\n"
     ]
    },
    {
     "data": {
      "text/plain": [
       "<Figure size 480x480 with 2 Axes>"
      ]
     },
     "metadata": {},
     "output_type": "display_data"
    },
    {
     "name": "stdout",
     "output_type": "stream",
     "text": [
      "Coefficients: \n",
      " [[ 0.00102436 -0.00191032  0.00118363 ... -0.16569718 -0.050208\n",
      "   0.07195373]]\n",
      "Mean squared error: 0.04\n",
      "Variance score: 0.08\n",
      "\n",
      "Calculating Accuracy of trained Classifier...\n",
      "\n",
      "Calculating Accuracy of Predictions...\n",
      "\n",
      "Creating Confusion Matrix...\n",
      "\n",
      "SVM Trained Classifier Accuracy:  -8.878559045676708\n",
      "\n",
      "Predicted Values:  [[4]\n",
      " [4]\n",
      " [4]\n",
      " ...\n",
      " [4]\n",
      " [4]\n",
      " [4]]\n",
      "\n",
      "Accuracy of Classifier on Validation Images:  0.3946053946053946\n",
      "\n",
      "Confusion Matrix: \n",
      " [[  0   4   4   7   0]\n",
      " [  0   8  65  27   0]\n",
      " [  0   5 107 163  20]\n",
      " [  0   1  49 191  69]\n",
      " [  0   1  31 160  89]]\n"
     ]
    },
    {
     "data": {
      "text/plain": [
       "<Figure size 480x480 with 2 Axes>"
      ]
     },
     "metadata": {},
     "output_type": "display_data"
    },
    {
     "name": "stdout",
     "output_type": "stream",
     "text": [
      "Coefficients: \n",
      " [[-0.06132276 -0.05317352  0.09635925 ... -0.02727428 -0.01998519\n",
      "   0.08851447]]\n",
      "Mean squared error: 0.04\n",
      "Variance score: -0.02\n",
      "\n",
      "Calculating Accuracy of trained Classifier...\n",
      "\n",
      "Calculating Accuracy of Predictions...\n",
      "\n",
      "Creating Confusion Matrix...\n",
      "\n",
      "SVM Trained Classifier Accuracy:  -7.726875679486316\n",
      "\n",
      "Predicted Values:  [[4]\n",
      " [4]\n",
      " [4]\n",
      " ...\n",
      " [4]\n",
      " [4]\n",
      " [4]]\n",
      "\n",
      "Accuracy of Classifier on Validation Images:  0.4045954045954046\n",
      "\n",
      "Confusion Matrix: \n",
      " [[  0   2   4   2   0]\n",
      " [  0  27 121  34   1]\n",
      " [  0  30 300 192   4]\n",
      " [  0   5  46  66   9]\n",
      " [  0   4  53  89  12]]\n"
     ]
    },
    {
     "data": {
      "text/plain": [
       "<Figure size 480x480 with 2 Axes>"
      ]
     },
     "metadata": {},
     "output_type": "display_data"
    },
    {
     "name": "stdout",
     "output_type": "stream",
     "text": [
      "Coefficients: \n",
      " [[ 0.0392624  -0.10368443  0.18024037 ...  0.03946311  0.01236122\n",
      "   0.12365321]]\n",
      "Mean squared error: 0.03\n",
      "Variance score: -3.07\n",
      "\n",
      "Calculating Accuracy of trained Classifier...\n",
      "\n",
      "Calculating Accuracy of Predictions...\n",
      "\n",
      "Creating Confusion Matrix...\n",
      "\n",
      "SVM Trained Classifier Accuracy:  -67.04335685305502\n",
      "\n",
      "Predicted Values:  [[4]\n",
      " [4]\n",
      " [4]\n",
      " ...\n",
      " [5]\n",
      " [5]\n",
      " [5]]\n",
      "\n",
      "Accuracy of Classifier on Validation Images:  0.2647352647352647\n",
      "\n",
      "Confusion Matrix: \n",
      " [[  0   0   0   0   0]\n",
      " [  0   0   0   0   0]\n",
      " [  0   0   0   0   0]\n",
      " [  2  78 382 233  19]\n",
      " [  1   7  86 161  32]]\n"
     ]
    },
    {
     "data": {
      "text/plain": [
       "<Figure size 480x480 with 2 Axes>"
      ]
     },
     "metadata": {},
     "output_type": "display_data"
    },
    {
     "name": "stdout",
     "output_type": "stream",
     "text": [
      "<function confusion_matrix at 0x110866598>\n"
     ]
    }
   ],
   "source": [
    "from sklearn.model_selection import KFold\n",
    "import numpy as np\n",
    "from scipy.io import loadmat\n",
    "import pandas as pd\n",
    "from sklearn import linear_model\n",
    "from sklearn.model_selection import train_test_split\n",
    "from sklearn.metrics import mean_squared_error, r2_score\n",
    "\n",
    "\n",
    "X = loadmat('mat_files/output_not_original_10.csv_tf-idf-l2.mat')\n",
    "X=X['X'].todense()\n",
    "y = pd.read_csv('mat_files/dataset_LABEL.csv', header=None).values\n",
    "\n",
    "\n",
    "total_confusion = np.zeros((5,5))\n",
    "kfold = 1\n",
    "\n",
    "kf = KFold(n_splits=5) # Define the split - into 2 folds \n",
    "kf.get_n_splits(X) # returns the number of splitting iterations in the cross-validator\n",
    "for train_index, test_index in kf.split(X):\n",
    "    X_train, X_test = X[train_index], X[test_index]\n",
    "    y_train, y_test = y[train_index], y[test_index]\n",
    "    \n",
    "    np.savetxt('test_indices_fold_'+str(kfold)+'.csv', test_index, delimiter=',')\n",
    "    # Create linear regression object\n",
    "    regr = linear_model.LinearRegression()\n",
    "\n",
    "    # Train the model using the training sets\n",
    "    regr.fit(X_train, y_train)\n",
    "    \n",
    "    \n",
    "    # Make predictions using the testing set\n",
    "    y_pred = regr.predict(X_test)\n",
    "\n",
    "    # The coefficients\n",
    "    print('Coefficients: \\n', regr.coef_)\n",
    "    # The mean squared error\n",
    "    print(\"Mean squared error: %.2f\"\n",
    "          % mean_squared_error(y_test, y_pred))\n",
    "    # Explained variance score: 1 is perfect prediction\n",
    "    print('Variance score: %.2f' % r2_score(y_test, y_pred))\n",
    "    \n",
    "    y_pred[y_pred>=0.8] = 5\n",
    "    y_pred[y_pred<0.2] = 1\n",
    "    y_pred[y_pred<0.4] = 2\n",
    "    y_pred[y_pred<0.6] = 3\n",
    "    y_pred[y_pred<0.8] = 4\n",
    "    y_test_5_classes=y_test\n",
    "    y_test_5_classes[y_test_5_classes>=0.8] = 5\n",
    "    y_test_5_classes[y_test_5_classes<0.2] = 1\n",
    "    y_test_5_classes[y_test_5_classes<0.4] = 2\n",
    "    y_test_5_classes[y_test_5_classes<0.6] = 3\n",
    "    y_test_5_classes[y_test_5_classes<0.8] = 4\n",
    "    y_pred = y_pred.astype(int)\n",
    "    y_test_5_classes = y_test_5_classes.astype(int)\n",
    "    \n",
    "    np.savetxt('y_pred_fold_'+str(kfold)+'.csv', y_pred, delimiter=',')\n",
    "    \n",
    "    \n",
    "    from sklearn.metrics import accuracy_score,confusion_matrix\n",
    "    import matplotlib.pyplot as plt\n",
    "\n",
    "    print('\\nCalculating Accuracy of trained Classifier...')\n",
    "    acc = regr.score(X_test,y_test)\n",
    "\n",
    "\n",
    "    print('\\nCalculating Accuracy of Predictions...')\n",
    "    accuracy = accuracy_score(y_test_5_classes, y_pred)\n",
    "\n",
    "    print('\\nCreating Confusion Matrix...')\n",
    "    conf_mat = confusion_matrix(y_test_5_classes,y_pred)\n",
    "\n",
    "    print('\\nSVM Trained Classifier Accuracy: ',acc)\n",
    "    print('\\nPredicted Values: ',y_test_5_classes)\n",
    "    print('\\nAccuracy of Classifier on Validation Images: ',accuracy)\n",
    "    print('\\nConfusion Matrix: \\n',conf_mat)\n",
    "    total_confusion = total_confusion + conf_mat\n",
    "\n",
    "    # Plot Confusion Matrix Data as a Matrix\n",
    "    plt.matshow(conf_mat)\n",
    "    plt.title('Confusion Matrix for Validation Data')\n",
    "    plt.colorbar()\n",
    "    plt.ylabel('True label')\n",
    "    plt.xlabel('Predicted label')\n",
    "    plt.show()\n",
    "    kfold = kfold + 1\n",
    "    \n",
    "print(confusion_matrix)"
   ]
  },
  {
   "cell_type": "code",
   "execution_count": 2,
   "metadata": {},
   "outputs": [
    {
     "name": "stdout",
     "output_type": "stream",
     "text": [
      "[[  1.  20.  16.  10.   0.]\n",
      " [  7. 102. 349. 107.   3.]\n",
      " [  5. 112. 745. 638.  53.]\n",
      " [  2.  95. 667. 993. 241.]\n",
      " [  1.  12. 191. 472. 164.]]\n"
     ]
    }
   ],
   "source": [
    "print(total_confusion)"
   ]
  },
  {
   "cell_type": "code",
   "execution_count": 3,
   "metadata": {},
   "outputs": [
    {
     "data": {
      "image/png": "[encoded data removed]",
      "text/plain": [
       "<Figure size 288x288 with 2 Axes>"
      ]
     },
     "metadata": {},
     "output_type": "display_data"
    }
   ],
   "source": [
    "# Plot Confusion Matrix Data as a Matrix\n",
    "plt.matshow(total_confusion)\n",
    "plt.title('Confusion Matrix for Validation Data')\n",
    "plt.colorbar()\n",
    "plt.ylabel('True label')\n",
    "plt.xlabel('Predicted label')\n",
    "plt.show()"
   ]
  },
  {
   "cell_type": "code",
   "execution_count": 4,
   "metadata": {},
   "outputs": [
    {
     "name": "stdout",
     "output_type": "stream",
     "text": [
      "Normalized confusion matrix\n",
      "[[0.02 0.43 0.34 0.21 0.  ]\n",
      " [0.01 0.18 0.61 0.19 0.01]\n",
      " [0.   0.07 0.48 0.41 0.03]\n",
      " [0.   0.05 0.33 0.5  0.12]\n",
      " [0.   0.01 0.23 0.56 0.2 ]]\n"
     ]
    },
    {
     "data": {
      "image/png": "[encoded data removed]",
      "text/plain": [
       "<Figure size 432x288 with 2 Axes>"
      ]
     },
     "metadata": {},
     "output_type": "display_data"
    },
    {
     "data": {
      "text/plain": [
       "<matplotlib.axes._subplots.AxesSubplot at 0x12b1ed048>"
      ]
     },
     "execution_count": 4,
     "metadata": {},
     "output_type": "execute_result"
    }
   ],
   "source": [
    "import numpy as np\n",
    "import matplotlib.pyplot as plt\n",
    "\n",
    "\n",
    "def plot_confusion_matrix(cm,\n",
    "                          normalize=False,\n",
    "                          title=None,\n",
    "                          cmap=plt.cm.Blues,\n",
    "                          target_names=None):\n",
    "    \"\"\"\n",
    "    This function prints and plots the confusion matrix.\n",
    "    Normalization can be applied by setting `normalize=True`.\n",
    "    \"\"\"\n",
    "    if not title:\n",
    "        if normalize:\n",
    "            title = 'Normalized confusion matrix'\n",
    "        else:\n",
    "            title = 'Confusion matrix, without normalization'\n",
    "\n",
    "    # Compute confusion matrix\n",
    "    #cm = confusion_matrix(y_true, y_pred)\n",
    "    # Only use the labels that appear in the data\n",
    "    #classes = classes[unique_labels(y_true, y_pred)]\n",
    "    classes = target_names\n",
    "    if normalize:\n",
    "        cm = cm.astype('float') / cm.sum(axis=1)[:, np.newaxis]\n",
    "        print(\"Normalized confusion matrix\")\n",
    "    else:\n",
    "        print('Confusion matrix, without normalization')\n",
    "\n",
    "    print(cm)\n",
    "\n",
    "    fig, ax = plt.subplots()\n",
    "    im = ax.imshow(cm, interpolation='nearest', cmap=cmap)\n",
    "    ax.figure.colorbar(im, ax=ax)\n",
    "    # We want to show all ticks...\n",
    "    ax.set(xticks=np.arange(cm.shape[1]),\n",
    "           yticks=np.arange(cm.shape[0]),\n",
    "           # ... and label them with the respective list entries\n",
    "           xticklabels=classes, yticklabels=classes,\n",
    "           title=title,\n",
    "           ylabel='True label',\n",
    "           xlabel='Predicted label')\n",
    "\n",
    "    # Rotate the tick labels and set their alignment.\n",
    "    plt.setp(ax.get_xticklabels(), rotation=45, ha=\"right\",\n",
    "             rotation_mode=\"anchor\")\n",
    "\n",
    "    # Loop over data dimensions and create text annotations.\n",
    "    fmt = '.2f' if normalize else 'd'\n",
    "    thresh = cm.max() / 2.\n",
    "    for i in range(cm.shape[0]):\n",
    "        for j in range(cm.shape[1]):\n",
    "            ax.text(j, i, format(cm[i, j], fmt),\n",
    "                    ha=\"center\", va=\"center\",\n",
    "                    color=\"white\" if cm[i, j] > thresh else \"black\")\n",
    "    fig.tight_layout()\n",
    "    \n",
    "    plt.show()\n",
    "    \n",
    "    return ax\n",
    "\n",
    "\n",
    "np.set_printoptions(precision=2)\n",
    "\n",
    "temp = np.array([[36, 32, 11, 4, 2],[105, 558, 324, 62, 8],[22, 388, 1061, 436, 23],[3, 48, 359, 1045, 160],[1, 4, 30, 135, 148]])\n",
    "\n",
    "plot_confusion_matrix(total_confusion, title=\"Confusion Matrix\", target_names =['1','2','3','4','5'], normalize=True)\n",
    "\n"
   ]
  },
  {
   "cell_type": "code",
   "execution_count": null,
   "metadata": {},
   "outputs": [],
   "source": []
  }
 ],
 "metadata": {
  "kernelspec": {
   "display_name": "Python 3",
   "language": "python",
   "name": "python3"
  },
  "language_info": {
   "codemirror_mode": {
    "name": "ipython",
    "version": 3
   },
   "file_extension": ".py",
   "mimetype": "text/x-python",
   "name": "python",
   "nbconvert_exporter": "python",
   "pygments_lexer": "ipython3",
   "version": "3.6.4"
  }
 },
 "nbformat": 4,
 "nbformat_minor": 2
}
