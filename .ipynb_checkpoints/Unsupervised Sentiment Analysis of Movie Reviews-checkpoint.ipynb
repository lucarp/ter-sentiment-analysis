{
 "cells": [
  {
   "cell_type": "markdown",
   "metadata": {},
   "source": [
    "# Unsupervised Sentiment Analysis of Movie Reviews"
   ]
  },
  {
   "cell_type": "markdown",
   "metadata": {},
   "source": [
    "## Introduction"
   ]
  },
  {
   "cell_type": "markdown",
   "metadata": {},
   "source": [
    "## Preprocessing"
   ]
  },
  {
   "cell_type": "code",
   "execution_count": 4,
   "metadata": {},
   "outputs": [],
   "source": [
    "import import_reviews\n",
    "import preprocessing_tools\n",
    "\n",
    "## Import reviews from original dataset\n",
    "cleanAndSaveData(sys.argv[1], sys.argv[2], int(sys.argv[3]), sys.argv[4])\n",
    "\n",
    "\n",
    "## Generate MAT files\n",
    "print(\"save bow...\")\n",
    "df, X = file_to_bow(sys.argv[1])\n",
    "scipy.io.savemat(sys.argv[1]+\"_bow.mat\", {'X' : X})\n",
    "print(\"save tf-idf...\")\n",
    "df, X = file_to_tfidf(sys.argv[1])\n",
    "scipy.io.savemat(sys.argv[1]+\"_tf-idf.mat\", {'X' : X})\n",
    "print(\"save tf-idf with l2...\")\n",
    "df, X = file_to_tfidf_l2(sys.argv[1])\n",
    "scipy.io.savemat(sys.argv[1]+\"_tf-idf-l2.mat\", {'X' : X})"
   ]
  },
  {
   "cell_type": "markdown",
   "metadata": {},
   "source": [
    "## K-means, SK-means"
   ]
  },
  {
   "cell_type": "markdown",
   "metadata": {},
   "source": [
    "## Building term x sentiment matrix"
   ]
  },
  {
   "cell_type": "markdown",
   "metadata": {},
   "source": [
    "## Word2vec and doc2vec"
   ]
  },
  {
   "cell_type": "code",
   "execution_count": null,
   "metadata": {},
   "outputs": [],
   "source": []
  }
 ],
 "metadata": {
  "kernelspec": {
   "display_name": "Python 3",
   "language": "python",
   "name": "python3"
  },
  "language_info": {
   "codemirror_mode": {
    "name": "ipython",
    "version": 3
   },
   "file_extension": ".py",
   "mimetype": "text/x-python",
   "name": "python",
   "nbconvert_exporter": "python",
   "pygments_lexer": "ipython3",
   "version": "3.6.7"
  }
 },
 "nbformat": 4,
 "nbformat_minor": 2
}
